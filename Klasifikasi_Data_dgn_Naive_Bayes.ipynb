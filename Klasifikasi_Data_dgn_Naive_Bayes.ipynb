{
  "nbformat": 4,
  "nbformat_minor": 0,
  "metadata": {
    "colab": {
      "provenance": []
    },
    "kernelspec": {
      "name": "python3",
      "display_name": "Python 3"
    },
    "language_info": {
      "name": "python"
    }
  },
  "cells": [
    {
      "cell_type": "code",
      "execution_count": null,
      "metadata": {
        "id": "ppJ71BckxeEv"
      },
      "outputs": [],
      "source": [
        "import numpy as np\n",
        "import matplotlib.pyplot as plt\n",
        "import pandas as pd"
      ]
    },
    {
      "cell_type": "markdown",
      "source": [
        "import numpy as np = untuk komputasi matrik / numerik\n",
        "import matplotlib.pyplot as plt = untuk menggambar grafik/ visualisasi\n",
        "import pandas as pd = untuk mengimport file eksternal (exm = csv)"
      ],
      "metadata": {
        "id": "IMlseJi51ZDT"
      }
    },
    {
      "cell_type": "code",
      "source": [
        "dataset = pd.read_csv(\"car_data.csv\")\n",
        "x = dataset.iloc[:,[2,3]].values\n",
        "y = dataset.iloc[:,-1].values"
      ],
      "metadata": {
        "id": "COMBhVDiyNFd"
      },
      "execution_count": 8,
      "outputs": []
    },
    {
      "cell_type": "code",
      "source": [
        "print(x)"
      ],
      "metadata": {
        "colab": {
          "base_uri": "https://localhost:8080/"
        },
        "id": "M9cbDZ9P0WV-",
        "outputId": "266da383-f286-48a6-cc46-4a6a22c40c05"
      },
      "execution_count": 9,
      "outputs": [
        {
          "output_type": "stream",
          "name": "stdout",
          "text": [
            "[[    35  20000]\n",
            " [    40  43500]\n",
            " [    49  74000]\n",
            " ...\n",
            " [    28 138500]\n",
            " [    48 134000]\n",
            " [    44  73500]]\n"
          ]
        }
      ]
    },
    {
      "cell_type": "code",
      "source": [
        "print(y)"
      ],
      "metadata": {
        "colab": {
          "base_uri": "https://localhost:8080/"
        },
        "id": "mrkKjhHI0Z_G",
        "outputId": "3dd2e1ab-190c-4765-e5d4-28a3207ac24a"
      },
      "execution_count": 10,
      "outputs": [
        {
          "output_type": "stream",
          "name": "stdout",
          "text": [
            "[0 0 0 1 0 1 1 0 0 0 0 1 0 0 1 1 0 0 1 1 0 1 1 0 0 0 1 1 1 1 1 0 0 0 1 0 0\n",
            " 1 1 0 0 1 0 0 1 0 0 1 1 0 1 1 1 0 1 1 1 0 0 1 1 1 1 0 0 0 0 1 0 0 0 1 0 0\n",
            " 1 1 0 0 1 1 1 1 1 0 1 1 1 0 0 0 0 1 0 0 1 1 1 0 0 0 0 1 0 0 0 1 0 1 0 1 1\n",
            " 0 0 0 1 0 1 1 0 0 1 1 0 0 0 1 0 0 1 1 0 0 1 0 0 0 0 1 0 1 0 0 1 0 0 0 0 0\n",
            " 0 0 0 0 0 1 1 1 0 1 0 0 1 1 1 0 1 1 0 0 1 0 0 1 0 0 1 0 1 1 1 1 1 0 0 1 1\n",
            " 1 1 0 1 1 0 0 0 0 0 0 0 0 0 1 0 0 0 0 0 1 1 0 1 1 1 1 0 0 0 0 1 1 0 0 0 0\n",
            " 0 0 0 0 1 1 0 0 0 0 1 0 1 1 1 1 0 0 1 1 1 0 0 1 0 0 0 1 1 1 0 0 1 0 1 0 0\n",
            " 0 0 0 0 1 1 1 0 1 0 0 0 0 1 0 0 0 0 0 0 1 0 0 1 1 1 0 1 0 1 0 0 1 1 0 0 0\n",
            " 0 1 1 1 1 0 0 0 1 1 1 0 0 0 0 1 1 0 1 1 0 1 0 0 0 1 0 1 0 0 0 0 0 0 0 1 0\n",
            " 0 1 0 1 0 1 0 0 0 1 0 0 1 0 1 1 1 1 1 0 0 0 1 0 1 1 0 1 0 0 1 1 1 0 0 0 0\n",
            " 1 1 0 0 0 0 1 0 1 1 0 1 0 0 0 1 1 0 0 1 0 0 1 1 0 0 1 0 0 1 0 0 0 1 0 0 0\n",
            " 0 0 1 1 0 1 0 0 1 1 1 0 0 0 0 0 0 1 1 0 0 0 0 0 1 0 0 0 1 1 0 0 0 1 0 0 1\n",
            " 0 1 0 0 0 0 1 1 0 1 0 0 1 1 1 0 0 0 0 1 0 0 0 0 1 1 0 1 0 1 1 1 0 0 1 0 1\n",
            " 0 0 0 0 1 0 1 1 1 0 0 1 0 1 0 1 1 1 1 0 0 0 0 0 0 1 0 0 1 1 0 1 0 1 1 1 0\n",
            " 1 0 1 0 0 0 0 1 0 0 0 0 1 0 1 1 0 1 1 1 0 0 0 1 0 0 1 0 0 1 0 0 1 0 1 0 0\n",
            " 0 1 0 0 0 0 1 0 0 1 0 1 0 1 0 1 1 0 0 0 0 0 1 1 1 0 0 1 0 0 1 0 0 0 0 0 0\n",
            " 0 0 0 0 0 0 0 0 0 1 0 0 0 0 1 0 0 0 0 1 1 0 0 0 1 1 1 0 0 0 1 1 0 0 1 0 0\n",
            " 1 0 0 0 0 0 1 0 0 1 0 1 0 1 1 1 1 0 0 0 0 0 1 1 0 0 1 1 0 1 1 1 1 0 0 0 1\n",
            " 0 1 0 0 1 1 0 1 0 0 0 1 1 0 0 0 0 0 0 0 0 0 0 0 1 0 0 0 1 1 0 0 0 1 1 0 0\n",
            " 0 0 0 0 0 0 0 0 1 0 1 0 0 1 1 0 1 1 0 1 0 1 1 0 1 0 0 0 0 1 0 0 1 0 1 0 0\n",
            " 0 0 1 1 1 1 0 0 1 1 0 0 0 1 0 0 0 0 0 0 1 1 0 1 0 1 0 0 1 1 0 0 0 1 0 1 0\n",
            " 1 1 1 0 0 0 1 0 0 1 1 1 1 0 1 0 0 1 1 1 0 0 1 1 0 1 0 0 1 0 0 0 0 0 0 0 1\n",
            " 0 1 1 0 1 0 1 1 1 1 1 0 0 1 0 0 0 0 0 0 1 0 1 0 0 0 0 0 1 0 1 0 0 1 0 0 1\n",
            " 0 0 0 0 1 0 1 0 0 0 1 0 1 1 1 0 0 0 0 1 0 0 1 1 1 0 0 0 1 0 1 1 1 1 0 1 0\n",
            " 0 1 1 1 0 1 1 1 1 1 0 1 0 0 0 0 0 1 0 1 0 0 1 1 0 0 0 0 0 1 0 1 0 1 0 1 0\n",
            " 0 0 0 0 0 1 0 1 0 1 0 1 0 1 1 0 0 1 0 0 1 0 1 0 0 0 0 1 1 1 1 0 0 0 1 1 0\n",
            " 0 0 0 1 1 0 0 1 1 0 1 0 0 0 0 0 1 0 1 0 0 0 0 0 1 0 1 0 0 0 0 0 1 0 0 1 1\n",
            " 0]\n"
          ]
        }
      ]
    },
    {
      "cell_type": "code",
      "source": [
        "from sklearn.model_selection import train_test_split\n",
        "x_train, x_test, y_train, y_test = train_test_split(x,y,test_size=0.25,random_state=0)\n"
      ],
      "metadata": {
        "id": "cZLnKp8d0vbx"
      },
      "execution_count": 11,
      "outputs": []
    },
    {
      "cell_type": "code",
      "source": [
        "print(x_train)"
      ],
      "metadata": {
        "colab": {
          "base_uri": "https://localhost:8080/"
        },
        "id": "f-sMoK6X1UMx",
        "outputId": "edbe8730-5e53-4540-abc1-25dc0952875f"
      },
      "execution_count": 12,
      "outputs": [
        {
          "output_type": "stream",
          "name": "stdout",
          "text": [
            "[[    20  20500]\n",
            " [    50  25500]\n",
            " [    51 136500]\n",
            " ...\n",
            " [    61  84500]\n",
            " [    30  62000]\n",
            " [    19  45500]]\n"
          ]
        }
      ]
    },
    {
      "cell_type": "code",
      "source": [
        "print(x_test)"
      ],
      "metadata": {
        "colab": {
          "base_uri": "https://localhost:8080/"
        },
        "id": "YP425QsNyKPE",
        "outputId": "88c41235-c6c8-43a6-b490-8124b3fa387a"
      },
      "execution_count": 13,
      "outputs": [
        {
          "output_type": "stream",
          "name": "stdout",
          "text": [
            "[[    54 136500]\n",
            " [    41  67500]\n",
            " [    50  29500]\n",
            " [    20  86000]\n",
            " [    27  31500]\n",
            " [    36  48500]\n",
            " [    40  97500]\n",
            " [    51  45500]\n",
            " [    55  71500]\n",
            " [    28  89500]\n",
            " [    47  80500]\n",
            " [    19  21000]\n",
            " [    35  44500]\n",
            " [    27  31000]\n",
            " [    46  33500]\n",
            " [    49  36000]\n",
            " [    33  60000]\n",
            " [    52  67500]\n",
            " [    42 108000]\n",
            " [    34  32500]\n",
            " [    32  67500]\n",
            " [    38  58500]\n",
            " [    27  82500]\n",
            " [    51  98500]\n",
            " [    55 140500]\n",
            " [    41  72500]\n",
            " [    37  75000]\n",
            " [    39  42000]\n",
            " [    38 145500]\n",
            " [    40  43500]\n",
            " [    40  80500]\n",
            " [    41  73500]\n",
            " [    29  86500]\n",
            " [    27  88000]\n",
            " [    25  80000]\n",
            " [    37  52000]\n",
            " [    26  80500]\n",
            " [    34  72000]\n",
            " [    38  71000]\n",
            " [    58 127500]\n",
            " [    36  76500]\n",
            " [    47  23500]\n",
            " [    54  35500]\n",
            " [    38  61000]\n",
            " [    51  37500]\n",
            " [    42  77500]\n",
            " [    30  15000]\n",
            " [    40  75000]\n",
            " [    31  18500]\n",
            " [    18  82000]\n",
            " [    57 134500]\n",
            " [    34  44500]\n",
            " [    42  65000]\n",
            " [    38  65000]\n",
            " [    41  53500]\n",
            " [    48  96000]\n",
            " [    34 150500]\n",
            " [    42  53000]\n",
            " [    31  71000]\n",
            " [    20  36000]\n",
            " [    47  97500]\n",
            " [    48  52500]\n",
            " [    57  72500]\n",
            " [    38  54500]\n",
            " [    26  80000]\n",
            " [    39  62500]\n",
            " [    42 136500]\n",
            " [    35  73500]\n",
            " [    27  36500]\n",
            " [    41  48500]\n",
            " [    41  58500]\n",
            " [    49 141000]\n",
            " [    25  59500]\n",
            " [    28  59500]\n",
            " [    38  75500]\n",
            " [    56  84500]\n",
            " [    60  42000]\n",
            " [    49  97500]\n",
            " [    53  72000]\n",
            " [    22  73500]\n",
            " [    40  60000]\n",
            " [    37 127500]\n",
            " [    54 104000]\n",
            " [    39  60500]\n",
            " [    39  62500]\n",
            " [    35  60000]\n",
            " [    62  90500]\n",
            " [    46  22000]\n",
            " [    38  94500]\n",
            " [    47  49000]\n",
            " [    43  77500]\n",
            " [    41 108500]\n",
            " [    59 102500]\n",
            " [    39  75000]\n",
            " [    46 114500]\n",
            " [    53  39500]\n",
            " [    51  92500]\n",
            " [    18  44000]\n",
            " [    24  21500]\n",
            " [    42 108500]\n",
            " [    44  62500]\n",
            " [    33 118500]\n",
            " [    35  22000]\n",
            " [    35  26500]\n",
            " [    47  51000]\n",
            " [    40  82500]\n",
            " [    37  76500]\n",
            " [    47  20000]\n",
            " [    38  34500]\n",
            " [    27  16500]\n",
            " [    26  17000]\n",
            " [    45  55500]\n",
            " [    19  69500]\n",
            " [    20  26500]\n",
            " [    21  83500]\n",
            " [    55  92500]\n",
            " [    20  22500]\n",
            " [    19  70000]\n",
            " [    40 123500]\n",
            " [    36  63000]\n",
            " [    27  85500]\n",
            " [    37  34500]\n",
            " [    40  72500]\n",
            " [    42  54000]\n",
            " [    50 109500]\n",
            " [    39 127500]\n",
            " [    50  44000]\n",
            " [    58  75500]\n",
            " [    56 145500]\n",
            " [    31  81500]\n",
            " [    43  74500]\n",
            " [    28  85000]\n",
            " [    27  90000]\n",
            " [    60 131500]\n",
            " [    28  97500]\n",
            " [    27  44500]\n",
            " [    27 137000]\n",
            " [    30  84500]\n",
            " [    47  83500]\n",
            " [    23  28500]\n",
            " [    50  88000]\n",
            " [    37  57000]\n",
            " [    56  40500]\n",
            " [    58  38000]\n",
            " [    42  81500]\n",
            " [    63  36500]\n",
            " [    38  61000]\n",
            " [    23  28000]\n",
            " [    49  43500]\n",
            " [    44 113500]\n",
            " [    38  80000]\n",
            " [    45  26000]\n",
            " [    52 147500]\n",
            " [    38  76500]\n",
            " [    24  32000]\n",
            " [    25  56500]\n",
            " [    52  90000]\n",
            " [    29  43000]\n",
            " [    37  33000]\n",
            " [    30  29500]\n",
            " [    35 108000]\n",
            " [    48  33000]\n",
            " [    26  88500]\n",
            " [    43 150500]\n",
            " [    36  61500]\n",
            " [    40 139500]\n",
            " [    40  43500]\n",
            " [    49  34500]\n",
            " [    51  89500]\n",
            " [    36  66500]\n",
            " [    48 138000]\n",
            " [    52  30500]\n",
            " [    40  74500]\n",
            " [    45  72500]\n",
            " [    56 126500]\n",
            " [    27  87500]\n",
            " [    42 104000]\n",
            " [    39  71000]\n",
            " [    45 106500]\n",
            " [    22  89500]\n",
            " [    41  79000]\n",
            " [    44  73500]\n",
            " [    22  63000]\n",
            " [    60  34000]\n",
            " [    27  84000]\n",
            " [    29  28000]\n",
            " [    46 117000]\n",
            " [    46  23000]\n",
            " [    58 144000]\n",
            " [    35  88000]\n",
            " [    59 130000]\n",
            " [    27  54000]\n",
            " [    43 112000]\n",
            " [    47  33500]\n",
            " [    55 109500]\n",
            " [    35  55000]\n",
            " [    39 128500]\n",
            " [    23  64500]\n",
            " [    40  80500]\n",
            " [    39  62500]\n",
            " [    26  84000]\n",
            " [    40  57000]\n",
            " [    33  19500]\n",
            " [    32  59500]\n",
            " [    37  53500]\n",
            " [    45  81500]\n",
            " [    48 141000]\n",
            " [    59  29000]\n",
            " [    40  72500]\n",
            " [    35  57000]\n",
            " [    29  83000]\n",
            " [    36 125000]\n",
            " [    39 114500]\n",
            " [    57 122000]\n",
            " [    49  31500]\n",
            " [    24  67500]\n",
            " [    30  89000]\n",
            " [    37  79000]\n",
            " [    21  37500]\n",
            " [    54 105500]\n",
            " [    40  95500]\n",
            " [    21  16000]\n",
            " [    24  83500]\n",
            " [    21  72000]\n",
            " [    40  65000]\n",
            " [    43  54500]\n",
            " [    44  74500]\n",
            " [    26  91500]\n",
            " [    46  79000]\n",
            " [    50  36000]\n",
            " [    27  58000]\n",
            " [    20  82000]\n",
            " [    63  44500]\n",
            " [    50  87500]\n",
            " [    49  88000]\n",
            " [    50  53500]\n",
            " [    50  45500]\n",
            " [    19  19000]\n",
            " [    34 115000]\n",
            " [    38  59500]\n",
            " [    59  24500]\n",
            " [    28  37000]\n",
            " [    59  83000]\n",
            " [    50  52500]\n",
            " [    30  48500]\n",
            " [    19  26000]\n",
            " [    41  52500]\n",
            " [    49  74000]\n",
            " [    44 130500]\n",
            " [    35  91000]]\n"
          ]
        }
      ]
    },
    {
      "cell_type": "code",
      "source": [
        "print(y_train)"
      ],
      "metadata": {
        "colab": {
          "base_uri": "https://localhost:8080/"
        },
        "id": "RrPMDzTfy8Y9",
        "outputId": "421e51eb-15b6-465b-8067-83707eca99a1"
      },
      "execution_count": 14,
      "outputs": [
        {
          "output_type": "stream",
          "name": "stdout",
          "text": [
            "[0 1 1 1 1 1 1 0 0 1 0 1 1 0 1 0 1 1 1 1 1 0 1 1 1 0 0 0 1 0 0 0 0 1 0 0 0\n",
            " 1 0 0 0 1 0 1 1 0 1 0 0 0 1 0 0 1 0 0 1 1 1 0 1 0 0 0 1 0 0 0 1 0 1 1 0 1\n",
            " 0 0 1 0 1 0 1 1 0 0 1 1 0 0 1 0 1 0 0 0 1 0 0 0 1 0 1 0 1 1 0 0 0 1 0 1 1\n",
            " 0 1 0 1 1 0 1 0 1 0 0 0 1 0 0 0 1 0 1 0 0 0 1 0 0 0 0 1 1 0 1 0 1 0 1 0 0\n",
            " 0 1 1 1 1 1 0 0 0 1 1 1 1 0 1 0 0 1 1 1 0 1 0 0 0 0 1 0 0 1 1 0 1 1 0 0 0\n",
            " 0 0 1 1 1 0 1 0 1 0 0 0 0 1 0 0 0 0 1 0 0 0 0 0 1 0 1 0 1 0 1 0 1 0 0 0 0\n",
            " 0 0 0 0 1 0 1 0 0 0 0 1 0 0 0 0 1 0 0 0 0 0 1 0 0 0 0 0 0 1 1 0 0 1 0 1 1\n",
            " 0 1 0 0 0 0 0 0 1 1 0 1 1 0 0 0 1 0 1 0 1 0 0 0 0 0 0 1 0 0 0 1 1 0 1 1 0\n",
            " 1 1 1 1 1 1 0 1 0 1 1 1 0 0 1 0 0 0 0 0 0 0 0 0 1 1 0 1 1 0 0 1 1 1 0 0 0\n",
            " 0 0 0 0 0 1 1 0 0 0 1 0 1 0 0 1 1 1 0 0 0 0 0 1 0 1 1 0 1 1 1 0 0 1 0 0 0\n",
            " 0 1 1 0 1 0 1 1 0 0 0 1 0 0 1 0 0 0 1 0 0 0 1 0 0 0 1 0 0 0 1 0 0 1 1 0 0\n",
            " 0 1 0 0 0 1 0 1 0 0 0 0 0 0 0 1 1 0 0 1 0 0 0 0 0 0 0 0 1 0 0 1 0 0 1 1 0\n",
            " 1 1 0 0 0 0 0 1 1 0 0 1 1 1 1 1 0 0 1 0 1 0 0 0 1 1 0 0 1 1 1 0 0 1 0 1 1\n",
            " 1 0 0 0 0 1 0 1 1 1 1 0 0 0 0 1 0 0 1 0 1 0 1 0 0 1 1 0 0 1 1 0 0 1 1 1 1\n",
            " 0 1 1 1 1 1 0 0 0 0 1 0 0 0 1 0 1 0 1 0 1 1 0 0 1 0 1 1 0 0 1 0 0 0 0 0 0\n",
            " 0 1 1 0 0 1 1 0 1 1 0 1 0 0 0 1 1 1 0 0 0 1 0 1 0 1 1 0 0 0 0 0 0 0 1 0 0\n",
            " 1 0 1 1 0 1 0 1 0 0 0 1 0 0 0 0 0 0 0 0 0 1 0 0 0 1 1 0 0 0 0 0 0 1 1 1 1\n",
            " 1 1 0 1 0 0 0 0 1 0 0 0 1 1 1 1 0 0 1 0 0 0 1 0 0 0 1 0 0 1 0 1 1 1 0 1 0\n",
            " 1 1 0 1 0 0 1 0 0 1 0 0 0 0 1 1 0 0 1 1 1 1 1 1 1 0 1 0 0 0 0 0 1 0 0 1 1\n",
            " 0 1 0 1 0 1 1 0 1 0 1 1 0 0 0 0 1 0 0 1 1 0 0 1 0 0 0 0 1 1 0 0 0 0 0 0 0\n",
            " 0 0 0 0 1 0 0 1 0 0]\n"
          ]
        }
      ]
    },
    {
      "cell_type": "code",
      "source": [
        "print(y_test)"
      ],
      "metadata": {
        "colab": {
          "base_uri": "https://localhost:8080/"
        },
        "id": "f4Dw4hiSy_Sk",
        "outputId": "78d8532d-84c2-44b2-f13a-7e7c90745d9b"
      },
      "execution_count": 15,
      "outputs": [
        {
          "output_type": "stream",
          "name": "stdout",
          "text": [
            "[0 0 1 0 0 0 1 0 1 0 1 0 0 0 1 1 0 0 1 0 0 0 0 1 1 1 0 0 1 0 1 0 0 0 0 0 0\n",
            " 0 0 1 0 0 1 0 1 1 0 0 0 0 1 0 0 0 0 1 1 0 0 0 0 1 1 0 0 0 1 0 0 0 0 1 0 0\n",
            " 0 1 1 1 1 0 0 1 1 0 0 0 1 0 1 1 0 1 1 1 1 1 1 0 0 1 0 1 0 0 1 0 0 1 0 0 0\n",
            " 0 0 0 0 1 0 0 1 0 0 0 0 0 1 1 0 1 1 0 0 0 0 1 1 0 1 0 0 0 1 0 1 1 0 1 0 0\n",
            " 1 1 0 1 1 0 0 0 1 0 0 0 0 1 0 1 0 1 0 1 1 0 1 1 0 0 1 0 1 0 1 0 0 0 0 1 0\n",
            " 0 1 1 1 0 1 0 1 1 1 0 1 0 0 0 0 0 0 0 0 0 0 1 1 0 0 1 1 1 1 0 0 1 0 1 1 0\n",
            " 0 0 0 0 0 0 1 1 0 0 1 1 1 1 0 0 0 0 1 0 0 1 0 0 0 0 1 1]\n"
          ]
        }
      ]
    },
    {
      "cell_type": "code",
      "source": [
        "from sklearn.preprocessing import StandardScaler\n",
        "sc = StandardScaler()\n",
        "x_train = sc.fit_transform(x_train)\n",
        "x_test = sc.fit_transform(x_test)"
      ],
      "metadata": {
        "id": "AMCj6ZRKzSWv"
      },
      "execution_count": 16,
      "outputs": []
    },
    {
      "cell_type": "markdown",
      "source": [
        "membuat skala supaya jarak antara kolom 2 dan 3 tidak terlalu "
      ],
      "metadata": {
        "id": "bGvOE6SUzsDf"
      }
    },
    {
      "cell_type": "code",
      "source": [
        "print(x_train)"
      ],
      "metadata": {
        "colab": {
          "base_uri": "https://localhost:8080/"
        },
        "id": "fqhLjZ1Rz3bE",
        "outputId": "3b509aff-2a82-4d8d-f9a3-ca91bfdee7b0"
      },
      "execution_count": 17,
      "outputs": [
        {
          "output_type": "stream",
          "name": "stdout",
          "text": [
            "[[-1.92084369 -1.50249061]\n",
            " [ 0.91133082 -1.35965201]\n",
            " [ 1.00573664  1.81136479]\n",
            " ...\n",
            " [ 1.94979481  0.3258434 ]\n",
            " [-0.97678552 -0.31693027]\n",
            " [-2.01524951 -0.78829764]]\n"
          ]
        }
      ]
    },
    {
      "cell_type": "code",
      "source": [
        "print(x_test)"
      ],
      "metadata": {
        "colab": {
          "base_uri": "https://localhost:8080/"
        },
        "id": "Z5EPodbjz-f1",
        "outputId": "c4dc99c5-11fc-49e7-9e20-222d49f18dbd"
      },
      "execution_count": 18,
      "outputs": [
        {
          "output_type": "stream",
          "name": "stdout",
          "text": [
            "[[ 1.32980175e+00  1.98318002e+00]\n",
            " [ 1.47027889e-01 -1.21200096e-01]\n",
            " [ 9.65871329e-01 -1.28013407e+00]\n",
            " [-1.76360681e+00  4.43017763e-01]\n",
            " [-1.12672857e+00 -1.21913755e+00]\n",
            " [-3.07885134e-01 -7.00667085e-01]\n",
            " [ 5.60452844e-02  7.93747783e-01]\n",
            " [ 1.05685393e+00 -7.92161873e-01]\n",
            " [ 1.42078435e+00  7.92954828e-04]\n",
            " [-1.03574597e+00  5.49761682e-01]\n",
            " [ 6.92923516e-01  2.75277318e-01]\n",
            " [-1.85458941e+00 -1.53936931e+00]\n",
            " [-3.98867738e-01 -8.22660136e-01]\n",
            " [-1.12672857e+00 -1.23438668e+00]\n",
            " [ 6.01940911e-01 -1.15814102e+00]\n",
            " [ 8.74888725e-01 -1.08189537e+00]\n",
            " [-5.80832947e-01 -3.49937065e-01]\n",
            " [ 1.14783654e+00 -1.21200096e-01]\n",
            " [ 2.38010493e-01  1.11397954e+00]\n",
            " [-4.89850342e-01 -1.18863929e+00]\n",
            " [-6.71815551e-01 -1.21200096e-01]\n",
            " [-1.25919925e-01 -3.95684459e-01]\n",
            " [-1.12672857e+00  3.36273844e-01]\n",
            " [ 1.05685393e+00  8.24246045e-01]\n",
            " [ 1.42078435e+00  2.10517307e+00]\n",
            " [ 1.47027889e-01  3.12912174e-02]\n",
            " [-2.16902529e-01  1.07536874e-01]\n",
            " [-3.49373201e-02 -8.98905792e-01]\n",
            " [-1.25919925e-01  2.25766439e+00]\n",
            " [ 5.60452844e-02 -8.53158398e-01]\n",
            " [ 5.60452844e-02  2.75277318e-01]\n",
            " [ 1.47027889e-01  6.17894800e-02]\n",
            " [-9.44763365e-01  4.58266894e-01]\n",
            " [-1.12672857e+00  5.04014288e-01]\n",
            " [-1.30869378e+00  2.60028187e-01]\n",
            " [-2.16902529e-01 -5.93923166e-01]\n",
            " [-1.21771118e+00  2.75277318e-01]\n",
            " [-4.89850342e-01  1.60420861e-02]\n",
            " [-1.25919925e-01 -1.44561765e-02]\n",
            " [ 1.69373216e+00  1.70869566e+00]\n",
            " [-3.07885134e-01  1.53284268e-01]\n",
            " [ 6.92923516e-01 -1.46312365e+00]\n",
            " [ 1.32980175e+00 -1.09714450e+00]\n",
            " [-1.25919925e-01 -3.19438803e-01]\n",
            " [ 1.05685393e+00 -1.03614797e+00]\n",
            " [ 2.38010493e-01  1.83782530e-01]\n",
            " [-8.53780760e-01 -1.72235888e+00]\n",
            " [ 5.60452844e-02  1.07536874e-01]\n",
            " [-7.62798156e-01 -1.61561496e+00]\n",
            " [-1.94557201e+00  3.21024712e-01]\n",
            " [ 1.60274956e+00  1.92218350e+00]\n",
            " [-4.89850342e-01 -8.22660136e-01]\n",
            " [ 2.38010493e-01 -1.97445752e-01]\n",
            " [-1.25919925e-01 -1.97445752e-01]\n",
            " [ 1.47027889e-01 -5.48175772e-01]\n",
            " [ 7.83906120e-01  7.48000389e-01]\n",
            " [-4.89850342e-01  2.41015570e+00]\n",
            " [ 2.38010493e-01 -5.63424903e-01]\n",
            " [-7.62798156e-01 -1.44561765e-02]\n",
            " [-1.76360681e+00 -1.08189537e+00]\n",
            " [ 6.92923516e-01  7.93747783e-01]\n",
            " [ 7.83906120e-01 -5.78674035e-01]\n",
            " [ 1.60274956e+00  3.12912174e-02]\n",
            " [-1.25919925e-01 -5.17677510e-01]\n",
            " [-1.21771118e+00  2.60028187e-01]\n",
            " [-3.49373201e-02 -2.73691409e-01]\n",
            " [ 2.38010493e-01  1.98318002e+00]\n",
            " [-3.98867738e-01  6.17894800e-02]\n",
            " [-1.12672857e+00 -1.06664624e+00]\n",
            " [ 1.47027889e-01 -7.00667085e-01]\n",
            " [ 1.47027889e-01 -3.95684459e-01]\n",
            " [ 8.74888725e-01  2.12042221e+00]\n",
            " [-1.30869378e+00 -3.65186197e-01]\n",
            " [-1.03574597e+00 -3.65186197e-01]\n",
            " [-1.25919925e-01  1.22786005e-01]\n",
            " [ 1.51176696e+00  3.97270369e-01]\n",
            " [ 1.87569737e+00 -8.98905792e-01]\n",
            " [ 8.74888725e-01  7.93747783e-01]\n",
            " [ 1.23881914e+00  1.60420861e-02]\n",
            " [-1.58164160e+00  6.17894800e-02]\n",
            " [ 5.60452844e-02 -3.49937065e-01]\n",
            " [-2.16902529e-01  1.70869566e+00]\n",
            " [ 1.32980175e+00  9.91986490e-01]\n",
            " [-3.49373201e-02 -3.34687934e-01]\n",
            " [-3.49373201e-02 -2.73691409e-01]\n",
            " [-3.98867738e-01 -3.49937065e-01]\n",
            " [ 2.05766258e+00  5.80259944e-01]\n",
            " [ 6.01940911e-01 -1.50887104e+00]\n",
            " [-1.25919925e-01  7.02252995e-01]\n",
            " [ 6.92923516e-01 -6.85417954e-01]\n",
            " [ 3.28993098e-01  1.83782530e-01]\n",
            " [ 1.47027889e-01  1.12922867e+00]\n",
            " [ 1.78471477e+00  9.46239096e-01]\n",
            " [-3.49373201e-02  1.07536874e-01]\n",
            " [ 6.01940911e-01  1.31221825e+00]\n",
            " [ 1.23881914e+00 -9.75151449e-01]\n",
            " [ 1.05685393e+00  6.41256470e-01]\n",
            " [-1.94557201e+00 -8.37909267e-01]\n",
            " [-1.39967639e+00 -1.52412018e+00]\n",
            " [ 2.38010493e-01  1.12922867e+00]\n",
            " [ 4.19975702e-01 -2.73691409e-01]\n",
            " [-5.80832947e-01  1.43421130e+00]\n",
            " [-3.98867738e-01 -1.50887104e+00]\n",
            " [-3.98867738e-01 -1.37162886e+00]\n",
            " [ 6.92923516e-01 -6.24421429e-01]\n",
            " [ 5.60452844e-02  3.36273844e-01]\n",
            " [-2.16902529e-01  1.53284268e-01]\n",
            " [ 6.92923516e-01 -1.56986757e+00]\n",
            " [-1.25919925e-01 -1.12764276e+00]\n",
            " [-1.12672857e+00 -1.67661149e+00]\n",
            " [-1.21771118e+00 -1.66136236e+00]\n",
            " [ 5.10958307e-01 -4.87179247e-01]\n",
            " [-1.85458941e+00 -6.02035704e-02]\n",
            " [-1.76360681e+00 -1.37162886e+00]\n",
            " [-1.67262420e+00  3.66772106e-01]\n",
            " [ 1.42078435e+00  6.41256470e-01]\n",
            " [-1.76360681e+00 -1.49362191e+00]\n",
            " [-1.85458941e+00 -4.49544391e-02]\n",
            " [ 5.60452844e-02  1.58670261e+00]\n",
            " [-3.07885134e-01 -2.58442277e-01]\n",
            " [-1.12672857e+00  4.27768631e-01]\n",
            " [-2.16902529e-01 -1.12764276e+00]\n",
            " [ 5.60452844e-02  3.12912174e-02]\n",
            " [ 2.38010493e-01 -5.32926641e-01]\n",
            " [ 9.65871329e-01  1.15972693e+00]\n",
            " [-3.49373201e-02  1.70869566e+00]\n",
            " [ 9.65871329e-01 -8.37909267e-01]\n",
            " [ 1.69373216e+00  1.22786005e-01]\n",
            " [ 1.51176696e+00  2.25766439e+00]\n",
            " [-7.62798156e-01  3.05775581e-01]\n",
            " [ 3.28993098e-01  9.22877427e-02]\n",
            " [-1.03574597e+00  4.12519500e-01]\n",
            " [-1.12672857e+00  5.65010813e-01]\n",
            " [ 1.87569737e+00  1.83068871e+00]\n",
            " [-1.03574597e+00  7.93747783e-01]\n",
            " [-1.12672857e+00 -8.22660136e-01]\n",
            " [-1.12672857e+00  1.99842916e+00]\n",
            " [-8.53780760e-01  3.97270369e-01]\n",
            " [ 6.92923516e-01  3.66772106e-01]\n",
            " [-1.49065899e+00 -1.31063234e+00]\n",
            " [ 9.65871329e-01  5.04014288e-01]\n",
            " [-2.16902529e-01 -4.41431853e-01]\n",
            " [ 1.51176696e+00 -9.44653186e-01]\n",
            " [ 1.69373216e+00 -1.02089884e+00]\n",
            " [ 2.38010493e-01  3.05775581e-01]\n",
            " [ 2.14864519e+00 -1.06664624e+00]\n",
            " [-1.25919925e-01 -3.19438803e-01]\n",
            " [-1.49065899e+00 -1.32588147e+00]\n",
            " [ 8.74888725e-01 -8.53158398e-01]\n",
            " [ 4.19975702e-01  1.28171998e+00]\n",
            " [-1.25919925e-01  2.60028187e-01]\n",
            " [ 5.10958307e-01 -1.38687799e+00]\n",
            " [ 1.14783654e+00  2.31866091e+00]\n",
            " [-1.25919925e-01  1.53284268e-01]\n",
            " [-1.39967639e+00 -1.20388842e+00]\n",
            " [-1.30869378e+00 -4.56680984e-01]\n",
            " [ 1.14783654e+00  5.65010813e-01]\n",
            " [-9.44763365e-01 -8.68407530e-01]\n",
            " [-2.16902529e-01 -1.17339016e+00]\n",
            " [-8.53780760e-01 -1.28013407e+00]\n",
            " [-3.98867738e-01  1.11397954e+00]\n",
            " [ 7.83906120e-01 -1.17339016e+00]\n",
            " [-1.21771118e+00  5.19263419e-01]\n",
            " [ 3.28993098e-01  2.41015570e+00]\n",
            " [-3.07885134e-01 -3.04189671e-01]\n",
            " [ 5.60452844e-02  2.07467481e+00]\n",
            " [ 5.60452844e-02 -8.53158398e-01]\n",
            " [ 8.74888725e-01 -1.12764276e+00]\n",
            " [ 1.05685393e+00  5.49761682e-01]\n",
            " [-3.07885134e-01 -1.51698358e-01]\n",
            " [ 7.83906120e-01  2.02892742e+00]\n",
            " [ 1.14783654e+00 -1.24963581e+00]\n",
            " [ 5.60452844e-02  9.22877427e-02]\n",
            " [ 5.10958307e-01  3.12912174e-02]\n",
            " [ 1.51176696e+00  1.67819740e+00]\n",
            " [-1.12672857e+00  4.88765157e-01]\n",
            " [ 2.38010493e-01  9.91986490e-01]\n",
            " [-3.49373201e-02 -1.44561765e-02]\n",
            " [ 5.10958307e-01  1.06823215e+00]\n",
            " [-1.58164160e+00  5.49761682e-01]\n",
            " [ 1.47027889e-01  2.29529924e-01]\n",
            " [ 4.19975702e-01  6.17894800e-02]\n",
            " [-1.58164160e+00 -2.58442277e-01]\n",
            " [ 1.87569737e+00 -1.14289189e+00]\n",
            " [-1.12672857e+00  3.82021237e-01]\n",
            " [-9.44763365e-01 -1.32588147e+00]\n",
            " [ 6.01940911e-01  1.38846390e+00]\n",
            " [ 6.01940911e-01 -1.47837278e+00]\n",
            " [ 1.69373216e+00  2.21191699e+00]\n",
            " [-3.98867738e-01  5.04014288e-01]\n",
            " [ 1.78471477e+00  1.78494132e+00]\n",
            " [-1.12672857e+00 -5.32926641e-01]\n",
            " [ 3.28993098e-01  1.23597259e+00]\n",
            " [ 6.92923516e-01 -1.15814102e+00]\n",
            " [ 1.42078435e+00  1.15972693e+00]\n",
            " [-3.98867738e-01 -5.02428378e-01]\n",
            " [-3.49373201e-02  1.73919392e+00]\n",
            " [-1.49065899e+00 -2.12694883e-01]\n",
            " [ 5.60452844e-02  2.75277318e-01]\n",
            " [-3.49373201e-02 -2.73691409e-01]\n",
            " [-1.21771118e+00  3.82021237e-01]\n",
            " [ 5.60452844e-02 -4.41431853e-01]\n",
            " [-5.80832947e-01 -1.58511670e+00]\n",
            " [-6.71815551e-01 -3.65186197e-01]\n",
            " [-2.16902529e-01 -5.48175772e-01]\n",
            " [ 5.10958307e-01  3.05775581e-01]\n",
            " [ 7.83906120e-01  2.12042221e+00]\n",
            " [ 1.78471477e+00 -1.29538321e+00]\n",
            " [ 5.60452844e-02  3.12912174e-02]\n",
            " [-3.98867738e-01 -4.41431853e-01]\n",
            " [-9.44763365e-01  3.51522975e-01]\n",
            " [-3.07885134e-01  1.63245000e+00]\n",
            " [-3.49373201e-02  1.31221825e+00]\n",
            " [ 1.60274956e+00  1.54095522e+00]\n",
            " [ 8.74888725e-01 -1.21913755e+00]\n",
            " [-1.39967639e+00 -1.21200096e-01]\n",
            " [-8.53780760e-01  5.34512551e-01]\n",
            " [-2.16902529e-01  2.29529924e-01]\n",
            " [-1.67262420e+00 -1.03614797e+00]\n",
            " [ 1.32980175e+00  1.03773388e+00]\n",
            " [ 5.60452844e-02  7.32751257e-01]\n",
            " [-1.67262420e+00 -1.69186062e+00]\n",
            " [-1.39967639e+00  3.66772106e-01]\n",
            " [-1.67262420e+00  1.60420861e-02]\n",
            " [ 5.60452844e-02 -1.97445752e-01]\n",
            " [ 3.28993098e-01 -5.17677510e-01]\n",
            " [ 4.19975702e-01  9.22877427e-02]\n",
            " [-1.21771118e+00  6.10758207e-01]\n",
            " [ 6.01940911e-01  2.29529924e-01]\n",
            " [ 9.65871329e-01 -1.08189537e+00]\n",
            " [-1.12672857e+00 -4.10933590e-01]\n",
            " [-1.76360681e+00  3.21024712e-01]\n",
            " [ 2.14864519e+00 -8.22660136e-01]\n",
            " [ 9.65871329e-01  4.88765157e-01]\n",
            " [ 8.74888725e-01  5.04014288e-01]\n",
            " [ 9.65871329e-01 -5.48175772e-01]\n",
            " [ 9.65871329e-01 -7.92161873e-01]\n",
            " [-1.85458941e+00 -1.60036583e+00]\n",
            " [-4.89850342e-01  1.32746738e+00]\n",
            " [-1.25919925e-01 -3.65186197e-01]\n",
            " [ 1.78471477e+00 -1.43262539e+00]\n",
            " [-1.03574597e+00 -1.05139711e+00]\n",
            " [ 1.78471477e+00  3.51522975e-01]\n",
            " [ 9.65871329e-01 -5.78674035e-01]\n",
            " [-8.53780760e-01 -7.00667085e-01]\n",
            " [-1.85458941e+00 -1.38687799e+00]\n",
            " [ 1.47027889e-01 -5.78674035e-01]\n",
            " [ 8.74888725e-01  7.70386114e-02]\n",
            " [ 4.19975702e-01  1.80019045e+00]\n",
            " [-3.98867738e-01  5.95509076e-01]]\n"
          ]
        }
      ]
    },
    {
      "cell_type": "code",
      "source": [
        "from sklearn.naive_bayes import GaussianNB\n",
        "classifier = GaussianNB()\n",
        "classifier.fit(x_train,y_train)"
      ],
      "metadata": {
        "colab": {
          "base_uri": "https://localhost:8080/",
          "height": 52
        },
        "id": "uI2bN3qF0mJM",
        "outputId": "29e7106f-9ba9-46df-f62a-0aa2c07b8a44"
      },
      "execution_count": 20,
      "outputs": [
        {
          "output_type": "execute_result",
          "data": {
            "text/plain": [
              "GaussianNB()"
            ],
            "text/html": [
              "<style>#sk-container-id-2 {color: black;background-color: white;}#sk-container-id-2 pre{padding: 0;}#sk-container-id-2 div.sk-toggleable {background-color: white;}#sk-container-id-2 label.sk-toggleable__label {cursor: pointer;display: block;width: 100%;margin-bottom: 0;padding: 0.3em;box-sizing: border-box;text-align: center;}#sk-container-id-2 label.sk-toggleable__label-arrow:before {content: \"▸\";float: left;margin-right: 0.25em;color: #696969;}#sk-container-id-2 label.sk-toggleable__label-arrow:hover:before {color: black;}#sk-container-id-2 div.sk-estimator:hover label.sk-toggleable__label-arrow:before {color: black;}#sk-container-id-2 div.sk-toggleable__content {max-height: 0;max-width: 0;overflow: hidden;text-align: left;background-color: #f0f8ff;}#sk-container-id-2 div.sk-toggleable__content pre {margin: 0.2em;color: black;border-radius: 0.25em;background-color: #f0f8ff;}#sk-container-id-2 input.sk-toggleable__control:checked~div.sk-toggleable__content {max-height: 200px;max-width: 100%;overflow: auto;}#sk-container-id-2 input.sk-toggleable__control:checked~label.sk-toggleable__label-arrow:before {content: \"▾\";}#sk-container-id-2 div.sk-estimator input.sk-toggleable__control:checked~label.sk-toggleable__label {background-color: #d4ebff;}#sk-container-id-2 div.sk-label input.sk-toggleable__control:checked~label.sk-toggleable__label {background-color: #d4ebff;}#sk-container-id-2 input.sk-hidden--visually {border: 0;clip: rect(1px 1px 1px 1px);clip: rect(1px, 1px, 1px, 1px);height: 1px;margin: -1px;overflow: hidden;padding: 0;position: absolute;width: 1px;}#sk-container-id-2 div.sk-estimator {font-family: monospace;background-color: #f0f8ff;border: 1px dotted black;border-radius: 0.25em;box-sizing: border-box;margin-bottom: 0.5em;}#sk-container-id-2 div.sk-estimator:hover {background-color: #d4ebff;}#sk-container-id-2 div.sk-parallel-item::after {content: \"\";width: 100%;border-bottom: 1px solid gray;flex-grow: 1;}#sk-container-id-2 div.sk-label:hover label.sk-toggleable__label {background-color: #d4ebff;}#sk-container-id-2 div.sk-serial::before {content: \"\";position: absolute;border-left: 1px solid gray;box-sizing: border-box;top: 0;bottom: 0;left: 50%;z-index: 0;}#sk-container-id-2 div.sk-serial {display: flex;flex-direction: column;align-items: center;background-color: white;padding-right: 0.2em;padding-left: 0.2em;position: relative;}#sk-container-id-2 div.sk-item {position: relative;z-index: 1;}#sk-container-id-2 div.sk-parallel {display: flex;align-items: stretch;justify-content: center;background-color: white;position: relative;}#sk-container-id-2 div.sk-item::before, #sk-container-id-2 div.sk-parallel-item::before {content: \"\";position: absolute;border-left: 1px solid gray;box-sizing: border-box;top: 0;bottom: 0;left: 50%;z-index: -1;}#sk-container-id-2 div.sk-parallel-item {display: flex;flex-direction: column;z-index: 1;position: relative;background-color: white;}#sk-container-id-2 div.sk-parallel-item:first-child::after {align-self: flex-end;width: 50%;}#sk-container-id-2 div.sk-parallel-item:last-child::after {align-self: flex-start;width: 50%;}#sk-container-id-2 div.sk-parallel-item:only-child::after {width: 0;}#sk-container-id-2 div.sk-dashed-wrapped {border: 1px dashed gray;margin: 0 0.4em 0.5em 0.4em;box-sizing: border-box;padding-bottom: 0.4em;background-color: white;}#sk-container-id-2 div.sk-label label {font-family: monospace;font-weight: bold;display: inline-block;line-height: 1.2em;}#sk-container-id-2 div.sk-label-container {text-align: center;}#sk-container-id-2 div.sk-container {/* jupyter's `normalize.less` sets `[hidden] { display: none; }` but bootstrap.min.css set `[hidden] { display: none !important; }` so we also need the `!important` here to be able to override the default hidden behavior on the sphinx rendered scikit-learn.org. See: https://github.com/scikit-learn/scikit-learn/issues/21755 */display: inline-block !important;position: relative;}#sk-container-id-2 div.sk-text-repr-fallback {display: none;}</style><div id=\"sk-container-id-2\" class=\"sk-top-container\"><div class=\"sk-text-repr-fallback\"><pre>GaussianNB()</pre><b>In a Jupyter environment, please rerun this cell to show the HTML representation or trust the notebook. <br />On GitHub, the HTML representation is unable to render, please try loading this page with nbviewer.org.</b></div><div class=\"sk-container\" hidden><div class=\"sk-item\"><div class=\"sk-estimator sk-toggleable\"><input class=\"sk-toggleable__control sk-hidden--visually\" id=\"sk-estimator-id-2\" type=\"checkbox\" checked><label for=\"sk-estimator-id-2\" class=\"sk-toggleable__label sk-toggleable__label-arrow\">GaussianNB</label><div class=\"sk-toggleable__content\"><pre>GaussianNB()</pre></div></div></div></div></div>"
            ]
          },
          "metadata": {},
          "execution_count": 20
        }
      ]
    },
    {
      "cell_type": "code",
      "source": [
        "y_pred = classifier.predict(x_test)"
      ],
      "metadata": {
        "id": "8XyWjaGq1cku"
      },
      "execution_count": 21,
      "outputs": []
    },
    {
      "cell_type": "code",
      "source": [
        "from sklearn.metrics import confusion_matrix\n",
        "cm = confusion_matrix(y_test,y_pred)\n",
        "print(cm)"
      ],
      "metadata": {
        "colab": {
          "base_uri": "https://localhost:8080/"
        },
        "id": "x4oMjnlF1yvo",
        "outputId": "ecce306a-f2dd-431e-a938-25c67174d764"
      },
      "execution_count": 22,
      "outputs": [
        {
          "output_type": "stream",
          "name": "stdout",
          "text": [
            "[[138  14]\n",
            " [ 14  84]]\n"
          ]
        }
      ]
    },
    {
      "cell_type": "code",
      "source": [
        "from matplotlib.colors import ListedColormap\n",
        "x_set , y_set = x_train , y_train\n",
        "x1, x2 = np.meshgrid(np.arange(start = x_set[:,0].min()-1, stop = x_set[:,0].max()+1, step=0.01),\n",
        "                     np.arange(start = x_set[:,1].min()-1, stop = x_set[:,0].max()+1, step=0.01))\n",
        "plt.contourf(x1,x2, classifier.predict(np.array([x1.ravel(),x2.ravel()]).T).reshape(x1.shape),\n",
        "             alpha = 0.75, cmap = ListedColormap(('red','green')))\n",
        "plt.xlim(x1.min(), x1.max())\n",
        "plt.ylim(x2.min(), x2.max())\n",
        "for i, j in enumerate (np.unique(y_set)):\n",
        "  plt.scatter(x_set[y_set == j,0], x_set[y_set == j, 1],\n",
        "              c = ListedColormap(('red','green'))(i), label = j)\n",
        "plt.title('Klasifikasi Data dengan Naive Bayes(Data Training)')\n",
        "plt.xlabel('Umur')\n",
        "plt.ylabel('Estimasi Gaji')\n",
        "plt.legend()\n",
        "plt.show()"
      ],
      "metadata": {
        "colab": {
          "base_uri": "https://localhost:8080/",
          "height": 527
        },
        "id": "_xyCUlze3Y_q",
        "outputId": "b42f2ffa-f760-4fa4-d0fb-ab5416796c92"
      },
      "execution_count": 25,
      "outputs": [
        {
          "output_type": "stream",
          "name": "stderr",
          "text": [
            "<ipython-input-25-9108ecb113e6>:10: UserWarning: *c* argument looks like a single numeric RGB or RGBA sequence, which should be avoided as value-mapping will have precedence in case its length matches with *x* & *y*.  Please use the *color* keyword-argument or provide a 2D array with a single row if you intend to specify the same RGB or RGBA value for all points.\n",
            "  plt.scatter(x_set[y_set == j,0], x_set[y_set == j, 1],\n"
          ]
        },
        {
          "output_type": "display_data",
          "data": {
            "text/plain": [
              "<Figure size 640x480 with 1 Axes>"
            ],
            "image/png": "[encoded data removed]"
          },
          "metadata": {}
        }
      ]
    },
    {
      "cell_type": "code",
      "source": [
        "from matplotlib.colors import ListedColormap\n",
        "x_set , y_set = x_test , y_test\n",
        "x1, x2 = np.meshgrid(np.arange(start = x_set[:,0].min()-1, stop = x_set[:,0].max()+1, step=0.01),\n",
        "                     np.arange(start = x_set[:,1].min()-1, stop = x_set[:,0].max()+1, step=0.01))\n",
        "plt.contourf(x1,x2, classifier.predict(np.array([x1.ravel(),x2.ravel()]).T).reshape(x1.shape),\n",
        "             alpha = 0.75, cmap = ListedColormap(('red','green')))\n",
        "plt.xlim(x1.min(), x1.max())\n",
        "plt.ylim(x2.min(), x2.max())\n",
        "for i, j in enumerate (np.unique(y_set)):\n",
        "  plt.scatter(x_set[y_set == j,0], x_set[y_set == j, 1],\n",
        "              c = ListedColormap(('red','green'))(i), label = j)\n",
        "plt.title('Klasifikasi Data dengan Naive Bayes(Data Testing)')\n",
        "plt.xlabel('Umur')\n",
        "plt.ylabel('Estimasi Gaji')\n",
        "plt.legend()\n",
        "plt.show()"
      ],
      "metadata": {
        "colab": {
          "base_uri": "https://localhost:8080/",
          "height": 527
        },
        "id": "mPs60D9LHqPr",
        "outputId": "9c8972a6-a7ab-454f-d5ba-0deb088dfdb4"
      },
      "execution_count": 26,
      "outputs": [
        {
          "output_type": "stream",
          "name": "stderr",
          "text": [
            "<ipython-input-26-183696d516d9>:10: UserWarning: *c* argument looks like a single numeric RGB or RGBA sequence, which should be avoided as value-mapping will have precedence in case its length matches with *x* & *y*.  Please use the *color* keyword-argument or provide a 2D array with a single row if you intend to specify the same RGB or RGBA value for all points.\n",
            "  plt.scatter(x_set[y_set == j,0], x_set[y_set == j, 1],\n"
          ]
        },
        {
          "output_type": "display_data",
          "data": {
            "text/plain": [
              "<Figure size 640x480 with 1 Axes>"
            ],
            "image/png": "[encoded data removed]"
          },
          "metadata": {}
        }
      ]
    }
  ]
}